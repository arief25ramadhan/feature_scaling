{
 "cells": [
  {
   "cell_type": "markdown",
   "metadata": {},
   "source": [
    "# Feature Scaling\n",
    "\n",
    "Map data into range [0, 1]. Why?\n",
    "* Speed up learning\n",
    "* Consider the features as equally important (at least initially) \n",
    "\n",
    "## Formula\n",
    "\n",
    "X_new = (X-X_min) / (X_max-X_min)"
   ]
  },
  {
   "cell_type": "code",
   "execution_count": 12,
   "metadata": {},
   "outputs": [
    {
     "name": "stdout",
     "output_type": "stream",
     "text": [
      "[0.0, 0.4166666666666667, 1.0]\n"
     ]
    }
   ],
   "source": [
    "# First method: Python only\n",
    "def featureScaling(arr):\n",
    "    x_min = min(arr)\n",
    "    x_max = max(arr)\n",
    "    \n",
    "    x_new = []\n",
    "    for x in arr:\n",
    "        x_n = (x - x_min)/(x_max - x_min)\n",
    "        x_new.append(x_n)\n",
    "\n",
    "    return x_new\n",
    "\n",
    "data = [115, 140, 175]\n",
    "print (featureScaling(data))"
   ]
  },
  {
   "cell_type": "code",
   "execution_count": 13,
   "metadata": {},
   "outputs": [
    {
     "name": "stdout",
     "output_type": "stream",
     "text": [
      "[[0.        ]\n",
      " [0.41666667]\n",
      " [1.        ]]\n"
     ]
    }
   ],
   "source": [
    "# Second method: Numpy and Sklearn\n",
    "import numpy\n",
    "from sklearn.preprocessing import MinMaxScaler\n",
    "\n",
    "weights = numpy.array([[115.], [140.], [175.]]) #add . after number to make data type into float\n",
    "scaler = MinMaxScaler()\n",
    "rescaled_weights = scaler.fit_transform(weights)\n",
    "\n",
    "print(rescaled_weight)"
   ]
  },
  {
   "cell_type": "code",
   "execution_count": null,
   "metadata": {},
   "outputs": [],
   "source": []
  }
 ],
 "metadata": {
  "kernelspec": {
   "display_name": "Python 3",
   "language": "python",
   "name": "python3"
  },
  "language_info": {
   "codemirror_mode": {
    "name": "ipython",
    "version": 3
   },
   "file_extension": ".py",
   "mimetype": "text/x-python",
   "name": "python",
   "nbconvert_exporter": "python",
   "pygments_lexer": "ipython3",
   "version": "3.7.4"
  }
 },
 "nbformat": 4,
 "nbformat_minor": 4
}
